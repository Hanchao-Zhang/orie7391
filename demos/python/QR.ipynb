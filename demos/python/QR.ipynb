{
 "cells": [
  {
   "cell_type": "code",
   "execution_count": 149,
   "metadata": {},
   "outputs": [],
   "source": [
    "from scipy.linalg import qr, cholesky, pinv, solve, norm\n",
    "from numpy.random import randn, rand\n",
    "from numpy.linalg import lstsq, eigvalsh\n",
    "import numpy as np"
   ]
  },
  {
   "cell_type": "code",
   "execution_count": 150,
   "metadata": {},
   "outputs": [],
   "source": [
    "# generate random data matrix\n",
    "n,d = 6,4\n",
    "X = randn(n,d)\n",
    "\n",
    "# optional: give it linearly dependent columns\n",
    "# X[:,3] = X[:,2]"
   ]
  },
  {
   "cell_type": "markdown",
   "metadata": {},
   "source": [
    "# Understanding the pseudoinverse"
   ]
  },
  {
   "cell_type": "code",
   "execution_count": 151,
   "metadata": {},
   "outputs": [],
   "source": [
    "# form pseudoinverse\n",
    "Xd = pinv(X)"
   ]
  },
  {
   "cell_type": "code",
   "execution_count": 152,
   "metadata": {},
   "outputs": [
    {
     "data": {
      "text/plain": [
       "array([[ 1.00000000e+00,  8.79885735e-17, -2.96358894e-17,\n",
       "         4.76292800e-17],\n",
       "       [ 5.38808617e-16,  1.00000000e+00,  1.47170786e-16,\n",
       "        -1.01578453e-17],\n",
       "       [-9.40987519e-16, -3.79978029e-16,  1.00000000e+00,\n",
       "        -4.65500701e-17],\n",
       "       [-1.39198888e-15, -1.41215391e-17,  1.61924690e-16,\n",
       "         1.00000000e+00]])"
      ]
     },
     "execution_count": 152,
     "metadata": {},
     "output_type": "execute_result"
    }
   ],
   "source": [
    "# X†X ≈ I_d\n",
    "Xd @ X"
   ]
  },
  {
   "cell_type": "code",
   "execution_count": 153,
   "metadata": {},
   "outputs": [
    {
     "data": {
      "text/plain": [
       "True"
      ]
     },
     "execution_count": 153,
     "metadata": {},
     "output_type": "execute_result"
    }
   ],
   "source": [
    "np.allclose(Xd @ X, np.identity(4))"
   ]
  },
  {
   "cell_type": "code",
   "execution_count": 154,
   "metadata": {},
   "outputs": [
    {
     "data": {
      "text/plain": [
       "array([[ 0.73201794,  0.31517833, -0.30545364, -0.01662556,  0.03318319,\n",
       "         0.04637713],\n",
       "       [ 0.31517833,  0.36700078,  0.14039856,  0.18309066,  0.24330578,\n",
       "         0.14332543],\n",
       "       [-0.30545364,  0.14039856,  0.4692452 ,  0.11749077,  0.27337729,\n",
       "         0.21794778],\n",
       "       [-0.01662556,  0.18309066,  0.11749077,  0.89701245, -0.17396005,\n",
       "        -0.12048376],\n",
       "       [ 0.03318319,  0.24330578,  0.27337729, -0.17396005,  0.69200936,\n",
       "        -0.21871519],\n",
       "       [ 0.04637713,  0.14332543,  0.21794778, -0.12048376, -0.21871519,\n",
       "         0.84271428]])"
      ]
     },
     "execution_count": 154,
     "metadata": {},
     "output_type": "execute_result"
    }
   ],
   "source": [
    "# XX† !≈ I_n\n",
    "X @ Xd"
   ]
  },
  {
   "cell_type": "code",
   "execution_count": 155,
   "metadata": {},
   "outputs": [
    {
     "data": {
      "text/plain": [
       "False"
      ]
     },
     "execution_count": 155,
     "metadata": {},
     "output_type": "execute_result"
    }
   ],
   "source": [
    "np.allclose(X @ Xd, np.identity(6))"
   ]
  },
  {
   "cell_type": "code",
   "execution_count": 171,
   "metadata": {},
   "outputs": [],
   "source": [
    "Q,R = qr(X)\n",
    "Q,R = qr(X, mode='economic')"
   ]
  },
  {
   "cell_type": "code",
   "execution_count": 172,
   "metadata": {},
   "outputs": [
    {
     "data": {
      "text/plain": [
       "True"
      ]
     },
     "execution_count": 172,
     "metadata": {},
     "output_type": "execute_result"
    }
   ],
   "source": [
    "np.allclose(X, Q @ R)"
   ]
  },
  {
   "cell_type": "code",
   "execution_count": 173,
   "metadata": {},
   "outputs": [
    {
     "data": {
      "text/plain": [
       "array([[-0.0251521 , -0.18701833, -0.08783951,  0.8298757 ],\n",
       "       [ 0.18544771, -0.12204774, -0.4721129 ,  0.30793455],\n",
       "       [ 0.36407333, -0.02796421, -0.41261844, -0.40701331],\n",
       "       [-0.62210597, -0.09666413, -0.69472381, -0.13420684],\n",
       "       [ 0.55308795,  0.50216719, -0.34060482,  0.13386393],\n",
       "       [ 0.37350368, -0.82935557, -0.0220644 , -0.12203187]])"
      ]
     },
     "execution_count": 173,
     "metadata": {},
     "output_type": "execute_result"
    }
   ],
   "source": [
    "Q"
   ]
  },
  {
   "cell_type": "code",
   "execution_count": 174,
   "metadata": {},
   "outputs": [
    {
     "data": {
      "text/plain": [
       "array([[ 4.10378606, -0.72465696, -0.26191898,  0.21376887],\n",
       "       [ 0.        , -2.09803959, -0.27895404, -0.62470393],\n",
       "       [ 0.        ,  0.        , -0.97093259,  0.63815253],\n",
       "       [ 0.        ,  0.        ,  0.        ,  1.685643  ]])"
      ]
     },
     "execution_count": 174,
     "metadata": {},
     "output_type": "execute_result"
    }
   ],
   "source": [
    "R"
   ]
  },
  {
   "cell_type": "code",
   "execution_count": 175,
   "metadata": {},
   "outputs": [
    {
     "name": "stdout",
     "output_type": "stream",
     "text": [
      "True\n"
     ]
    },
    {
     "data": {
      "text/plain": [
       "array([[ 1.00000000e+00,  1.51461084e-16,  4.07030745e-17,\n",
       "        -3.08845298e-16],\n",
       "       [ 1.51461084e-16,  1.00000000e+00, -5.76214059e-18,\n",
       "        -7.16653888e-17],\n",
       "       [ 4.07030745e-17, -5.76214059e-18,  1.00000000e+00,\n",
       "        -1.19357030e-16],\n",
       "       [-3.08845298e-16, -7.16653888e-17, -1.19357030e-16,\n",
       "         1.00000000e+00]])"
      ]
     },
     "execution_count": 175,
     "metadata": {},
     "output_type": "execute_result"
    }
   ],
   "source": [
    "print(np.allclose(Q.T @ Q, np.identity(Q.shape[1])))\n",
    "Q.T @ Q"
   ]
  },
  {
   "cell_type": "code",
   "execution_count": 176,
   "metadata": {},
   "outputs": [],
   "source": [
    "# form data from noisy linear model\n",
    "wtrue = randn(d)\n",
    "y = X.dot(wtrue) + .01*randn(n)"
   ]
  },
  {
   "cell_type": "code",
   "execution_count": 177,
   "metadata": {},
   "outputs": [],
   "source": [
    "# solve least squares problem to estimate w\n",
    "Q,R = qr(X, mode='economic')\n",
    "w = solve(R, Q.T @ y)"
   ]
  },
  {
   "cell_type": "code",
   "execution_count": 178,
   "metadata": {},
   "outputs": [
    {
     "data": {
      "text/plain": [
       "0.012594473275523564"
      ]
     },
     "execution_count": 178,
     "metadata": {},
     "output_type": "execute_result"
    }
   ],
   "source": [
    "# how good is our estimate?\n",
    "norm(w - wtrue)"
   ]
  },
  {
   "cell_type": "code",
   "execution_count": 179,
   "metadata": {},
   "outputs": [
    {
     "data": {
      "text/plain": [
       "4.6996908866091594e-05"
      ]
     },
     "execution_count": 179,
     "metadata": {},
     "output_type": "execute_result"
    }
   ],
   "source": [
    "# compute mean square error\n",
    "def mse(y,z):\n",
    "    return sum((y-z)**2)/len(y)\n",
    "    \n",
    "mse(y,X.dot(w))"
   ]
  },
  {
   "cell_type": "code",
   "execution_count": 181,
   "metadata": {},
   "outputs": [
    {
     "data": {
      "text/plain": [
       "1.3256011772999124e-15"
      ]
     },
     "execution_count": 181,
     "metadata": {},
     "output_type": "execute_result"
    }
   ],
   "source": [
    "# we can use the numpy.lstsq call instead\n",
    "w_lstsq = np.linalg.lstsq(X, y, rcond=None)[0]\n",
    "norm(w_lstsq - w)"
   ]
  },
  {
   "cell_type": "markdown",
   "metadata": {},
   "source": [
    "# Let's try some stuff from class questions"
   ]
  },
  {
   "cell_type": "code",
   "execution_count": 185,
   "metadata": {},
   "outputs": [
    {
     "data": {
      "text/plain": [
       "array([[-0.0252142 ,  0.06080263,  0.12708617, -0.10836708,  0.10045678,\n",
       "         0.16739217],\n",
       "       [-0.11250352, -0.0768373 ,  0.04982135, -0.01839755, -0.31657898,\n",
       "         0.42016123],\n",
       "       [ 0.4140501 ,  0.6063151 ,  0.26627071,  0.66319295,  0.40299726,\n",
       "        -0.02485709],\n",
       "       [ 0.49231996,  0.18268076, -0.24145878, -0.0796176 ,  0.07941417,\n",
       "        -0.07239485]])"
      ]
     },
     "execution_count": 185,
     "metadata": {},
     "output_type": "execute_result"
    }
   ],
   "source": [
    "w = solve(R, Q.T)\n",
    "w"
   ]
  },
  {
   "cell_type": "code",
   "execution_count": 187,
   "metadata": {},
   "outputs": [
    {
     "data": {
      "text/plain": [
       "array([[-0.0252142 ,  0.06080263,  0.12708617, -0.10836708,  0.10045678,\n",
       "         0.16739217],\n",
       "       [-0.11250352, -0.0768373 ,  0.04982135, -0.01839755, -0.31657898,\n",
       "         0.42016123],\n",
       "       [ 0.4140501 ,  0.6063151 ,  0.26627071,  0.66319295,  0.40299726,\n",
       "        -0.02485709],\n",
       "       [ 0.49231996,  0.18268076, -0.24145878, -0.0796176 ,  0.07941417,\n",
       "        -0.07239485]])"
      ]
     },
     "execution_count": 187,
     "metadata": {},
     "output_type": "execute_result"
    }
   ],
   "source": [
    "pinv(X)"
   ]
  },
  {
   "cell_type": "markdown",
   "metadata": {},
   "source": [
    "# Compute QR by hand"
   ]
  },
  {
   "cell_type": "code",
   "execution_count": 208,
   "metadata": {},
   "outputs": [
    {
     "data": {
      "text/plain": [
       "array([[ 0.44184904,  0.        ,  0.        ,  0.        ,  0.        ,\n",
       "         0.        ],\n",
       "       [ 0.4677745 ,  0.        ,  0.        ,  0.        ,  0.        ,\n",
       "         0.        ],\n",
       "       [-0.02585363,  0.        ,  0.        ,  0.        ,  0.        ,\n",
       "         0.        ],\n",
       "       [ 0.19062007,  0.        ,  0.        ,  0.        ,  0.        ,\n",
       "         0.        ],\n",
       "       [ 0.37422778,  0.        ,  0.        ,  0.        ,  0.        ,\n",
       "         0.        ],\n",
       "       [-0.63945727,  0.        ,  0.        ,  0.        ,  0.        ,\n",
       "         0.        ]])"
      ]
     },
     "execution_count": 208,
     "metadata": {},
     "output_type": "execute_result"
    }
   ],
   "source": [
    "np.random.seed(0)\n",
    "n,d = 6,4\n",
    "X = randn(n,d)\n",
    "\n",
    "n,d = X.shape \n",
    "X0 = X.copy()\n",
    "R = np.zeros((n,d))\n",
    "Q = np.zeros((n,n))\n",
    "\n",
    "# first column of Q points in direction of first column of X\n",
    "r = norm(X[:,0])\n",
    "Q[:,0] = X[:,0]/r\n",
    "Q"
   ]
  },
  {
   "cell_type": "code",
   "execution_count": 209,
   "metadata": {},
   "outputs": [],
   "source": [
    "# ensure Q*R matches X on first column\n",
    "R[0,0] = r"
   ]
  },
  {
   "cell_type": "code",
   "execution_count": 210,
   "metadata": {},
   "outputs": [
    {
     "data": {
      "text/plain": [
       "array([0., 0., 0., 0., 0., 0.])"
      ]
     },
     "execution_count": 210,
     "metadata": {},
     "output_type": "execute_result"
    }
   ],
   "source": [
    "# verify Q*R matches X in first column\n",
    "(Q@R - X)[:,0]"
   ]
  },
  {
   "cell_type": "code",
   "execution_count": 211,
   "metadata": {},
   "outputs": [],
   "source": [
    "# now delete that part from X; we've covered it already\n",
    "X[:,0] -= Q[:,0]*R[0,0]"
   ]
  },
  {
   "cell_type": "code",
   "execution_count": 212,
   "metadata": {},
   "outputs": [
    {
     "data": {
      "text/plain": [
       "array([[ True,  True,  True,  True],\n",
       "       [ True,  True,  True,  True],\n",
       "       [ True,  True,  True,  True],\n",
       "       [ True,  True,  True,  True],\n",
       "       [ True,  True,  True,  True],\n",
       "       [ True,  True,  True,  True]])"
      ]
     },
     "execution_count": 212,
     "metadata": {},
     "output_type": "execute_result"
    }
   ],
   "source": [
    "# verify Q*R + X = X0\n",
    "np.isclose(Q@R + X, X0)"
   ]
  },
  {
   "cell_type": "code",
   "execution_count": 213,
   "metadata": {},
   "outputs": [
    {
     "data": {
      "text/plain": [
       "array([[ 3.99243226, -0.76249543,  0.52215538,  1.1002987 ],\n",
       "       [ 0.        ,  0.        ,  0.        ,  0.        ],\n",
       "       [ 0.        ,  0.        ,  0.        ,  0.        ],\n",
       "       [ 0.        ,  0.        ,  0.        ,  0.        ],\n",
       "       [ 0.        ,  0.        ,  0.        ,  0.        ],\n",
       "       [ 0.        ,  0.        ,  0.        ,  0.        ]])"
      ]
     },
     "execution_count": 213,
     "metadata": {},
     "output_type": "execute_result"
    }
   ],
   "source": [
    "# eliminate component of other columns in direction of first column of Q \n",
    "for j in range(1,d):\n",
    "    R[0,j] = Q[:,0].dot(X[:,j])\n",
    "    X[:,j] -= Q[:,0]*R[0,j]\n",
    "R"
   ]
  },
  {
   "cell_type": "code",
   "execution_count": 214,
   "metadata": {},
   "outputs": [
    {
     "data": {
      "text/plain": [
       "array([[ True,  True,  True,  True],\n",
       "       [ True,  True,  True,  True],\n",
       "       [ True,  True,  True,  True],\n",
       "       [ True,  True,  True,  True],\n",
       "       [ True,  True,  True,  True],\n",
       "       [ True,  True,  True,  True]])"
      ]
     },
     "execution_count": 214,
     "metadata": {},
     "output_type": "execute_result"
    }
   ],
   "source": [
    "# verify Q*R + X = X0\n",
    "np.isclose(Q@R + X, X0)"
   ]
  },
  {
   "cell_type": "code",
   "execution_count": 215,
   "metadata": {},
   "outputs": [
    {
     "name": "stdout",
     "output_type": "stream",
     "text": [
      "iteration 0 : QR + X = X0? True\n",
      "iteration 1 : QR + X = X0? True\n",
      "iteration 2 : QR + X = X0? True\n",
      "iteration 3 : QR + X = X0? True\n"
     ]
    }
   ],
   "source": [
    "# now for all the columns!\n",
    "X = X0.copy()\n",
    "Q *= 0\n",
    "R *= 0\n",
    "\n",
    "# compute the QR decomposition\n",
    "for i in range(d):\n",
    "    r = norm(X[:,i])\n",
    "    Q[:,i] = X[:,i]/r\n",
    "    for j in range(i,d):\n",
    "        R[i,j] = Q[:,i].dot(X[:,j])\n",
    "        X[:,j] -= Q[:,i]*R[i,j]\n",
    "    print(\"iteration\",i,\": QR + X = X0?\", np.isclose(Q@R + X, X0).all())"
   ]
  },
  {
   "cell_type": "code",
   "execution_count": 216,
   "metadata": {},
   "outputs": [
    {
     "data": {
      "text/plain": [
       "array([[ 4.41849036e-01,  6.76661796e-01,  2.88664404e-01,\n",
       "         2.08483287e-01,  0.00000000e+00,  0.00000000e+00],\n",
       "       [ 4.67774496e-01, -5.69742958e-01,  6.08427434e-01,\n",
       "         2.65340927e-01,  0.00000000e+00,  0.00000000e+00],\n",
       "       [-2.58536263e-02,  3.58851761e-01,  6.27117449e-04,\n",
       "         4.20404933e-01,  0.00000000e+00,  0.00000000e+00],\n",
       "       [ 1.90620072e-01,  2.45139212e-01,  1.51328983e-01,\n",
       "        -2.10382069e-01,  0.00000000e+00,  0.00000000e+00],\n",
       "       [ 3.74227783e-01,  7.36171596e-02,  5.45344851e-02,\n",
       "        -7.89702969e-01,  0.00000000e+00,  0.00000000e+00],\n",
       "       [-6.39457265e-01,  1.52428573e-01,  7.21535900e-01,\n",
       "        -2.03708641e-01,  0.00000000e+00,  0.00000000e+00]])"
      ]
     },
     "execution_count": 216,
     "metadata": {},
     "output_type": "execute_result"
    }
   ],
   "source": [
    "Q"
   ]
  },
  {
   "cell_type": "code",
   "execution_count": 217,
   "metadata": {},
   "outputs": [
    {
     "data": {
      "text/plain": [
       "array([[ 3.99243226, -0.76249543,  0.52215538,  1.1002987 ],\n",
       "       [ 0.        ,  1.08926658,  0.43627892,  2.03022353],\n",
       "       [ 0.        ,  0.        ,  1.56864112,  0.02410644],\n",
       "       [ 0.        ,  0.        ,  0.        ,  1.79387955],\n",
       "       [ 0.        ,  0.        ,  0.        ,  0.        ],\n",
       "       [ 0.        ,  0.        ,  0.        ,  0.        ]])"
      ]
     },
     "execution_count": 217,
     "metadata": {},
     "output_type": "execute_result"
    }
   ],
   "source": [
    "R"
   ]
  },
  {
   "cell_type": "code",
   "execution_count": 218,
   "metadata": {},
   "outputs": [],
   "source": [
    "\"\"\"Our very own QR function to compute the economy QR\"\"\"\n",
    "def ourQR(X0):\n",
    "    X = X0.copy()\n",
    "    n,d = X.shape\n",
    "    R = np.zeros((n,d))\n",
    "    Q = np.zeros((n,n))\n",
    "\n",
    "    # compute the QR decomposition\n",
    "    for i in range(d):\n",
    "        r = norm(X[:,i])\n",
    "        Q[:,i] = X[:,i]/r\n",
    "        for j in range(i,d):\n",
    "            R[i,j] = Q[:,i].dot(X[:,j])\n",
    "            X[:,j] -= Q[:,i]*R[i,j]\n",
    "    return Q,R"
   ]
  },
  {
   "cell_type": "code",
   "execution_count": 219,
   "metadata": {},
   "outputs": [],
   "source": [
    "# solve least squares problem to estimate w\n",
    "Q,R = ourQR(X0)\n",
    "w_byhand = solve(R[:d,:d], (Q.T @ y)[:d])"
   ]
  },
  {
   "cell_type": "code",
   "execution_count": 220,
   "metadata": {},
   "outputs": [
    {
     "ename": "ValueError",
     "evalue": "operands could not be broadcast together with shapes (4,) (4,6) ",
     "output_type": "error",
     "traceback": [
      "\u001b[0;31m---------------------------------------------------------------------------\u001b[0m",
      "\u001b[0;31mValueError\u001b[0m                                Traceback (most recent call last)",
      "\u001b[0;32m<ipython-input-220-f2720c386dc1>\u001b[0m in \u001b[0;36m<module>\u001b[0;34m\u001b[0m\n\u001b[0;32m----> 1\u001b[0;31m \u001b[0mnorm\u001b[0m\u001b[0;34m(\u001b[0m\u001b[0mw_byhand\u001b[0m \u001b[0;34m-\u001b[0m \u001b[0mw\u001b[0m\u001b[0;34m)\u001b[0m\u001b[0;34m\u001b[0m\u001b[0;34m\u001b[0m\u001b[0m\n\u001b[0m",
      "\u001b[0;31mValueError\u001b[0m: operands could not be broadcast together with shapes (4,) (4,6) "
     ]
    }
   ],
   "source": [
    "norm(w_byhand - w)"
   ]
  },
  {
   "cell_type": "markdown",
   "metadata": {},
   "source": [
    "# The importance of the permutation"
   ]
  },
  {
   "cell_type": "code",
   "execution_count": 221,
   "metadata": {},
   "outputs": [
    {
     "data": {
      "text/plain": [
       "array([[1., 0., 0.],\n",
       "       [1., 1., 1.],\n",
       "       [0., 0., 1.]])"
      ]
     },
     "execution_count": 221,
     "metadata": {},
     "output_type": "execute_result"
    }
   ],
   "source": [
    "X0 = np.zeros((3,3))\n",
    "X0[:,0] = [1,1,0]\n",
    "X0[:,1] = [0,1,0]\n",
    "X0[:,2] = [0,1,1]\n",
    "X0\n",
    "\n",
    "Y = X0.copy()\n",
    "Y[:,1] = X0[:,0]\n",
    "Y[:,0] = X0[:,1]\n",
    "X0"
   ]
  },
  {
   "cell_type": "code",
   "execution_count": 222,
   "metadata": {},
   "outputs": [
    {
     "data": {
      "text/plain": [
       "array([[0., 1., 0.],\n",
       "       [1., 1., 1.],\n",
       "       [0., 0., 1.]])"
      ]
     },
     "execution_count": 222,
     "metadata": {},
     "output_type": "execute_result"
    }
   ],
   "source": [
    "Y"
   ]
  },
  {
   "cell_type": "code",
   "execution_count": 226,
   "metadata": {},
   "outputs": [
    {
     "data": {
      "text/plain": [
       "array([[0., 1., 0.],\n",
       "       [1., 1., 1.],\n",
       "       [0., 0., 1.]])"
      ]
     },
     "execution_count": 226,
     "metadata": {},
     "output_type": "execute_result"
    }
   ],
   "source": [
    "# try X0 vs Y \n",
    "X = X0.copy()\n",
    "X = Y.copy()\n",
    "X"
   ]
  },
  {
   "cell_type": "code",
   "execution_count": 227,
   "metadata": {},
   "outputs": [
    {
     "name": "stdout",
     "output_type": "stream",
     "text": [
      "iteration 0 : QR + X = X0? False\n",
      "iteration 1 : QR + X = X0? False\n",
      "iteration 2 : QR + X = X0? False\n"
     ]
    }
   ],
   "source": [
    "# now for all the columns!\n",
    "n,d = X.shape\n",
    "Q = np.zeros((n,n))\n",
    "R = np.zeros((n,d))\n",
    "\n",
    "# compute the QR decomposition\n",
    "for i in range(d):\n",
    "    r = norm(X[:,i])\n",
    "    Q[:,i] = X[:,i]/r\n",
    "    for j in range(i,d):\n",
    "        R[i,j] = Q[:,i].dot(X[:,j])\n",
    "        X[:,j] -= Q[:,i]*R[i,j]\n",
    "    print(\"iteration\",i,\": QR + X = X0?\", np.isclose(Q@R + X, X0).all())"
   ]
  },
  {
   "cell_type": "code",
   "execution_count": 228,
   "metadata": {},
   "outputs": [
    {
     "data": {
      "text/plain": [
       "(array([[0., 1., 0.],\n",
       "        [1., 0., 0.],\n",
       "        [0., 0., 1.]]),\n",
       " array([[1., 1., 1.],\n",
       "        [0., 1., 0.],\n",
       "        [0., 0., 1.]]))"
      ]
     },
     "execution_count": 228,
     "metadata": {},
     "output_type": "execute_result"
    }
   ],
   "source": [
    "Q,R"
   ]
  },
  {
   "cell_type": "markdown",
   "metadata": {},
   "source": [
    "The number of nonzeros in Q and R is larger using the first permutation (X0) than the second (Y). Why?"
   ]
  },
  {
   "cell_type": "code",
   "execution_count": 147,
   "metadata": {},
   "outputs": [
    {
     "data": {
      "text/plain": [
       "(4, 6)"
      ]
     },
     "execution_count": 147,
     "metadata": {},
     "output_type": "execute_result"
    }
   ],
   "source": [
    "zero = 1e-16\n",
    "(Q>zero).sum(), (R>zero).sum()"
   ]
  },
  {
   "cell_type": "code",
   "execution_count": 148,
   "metadata": {},
   "outputs": [
    {
     "data": {
      "text/plain": [
       "(array([[1., 0., 0.],\n",
       "        [1., 1., 1.],\n",
       "        [0., 0., 1.]]),\n",
       " array([[0., 1., 0.],\n",
       "        [1., 1., 1.],\n",
       "        [0., 0., 1.]]))"
      ]
     },
     "execution_count": 148,
     "metadata": {},
     "output_type": "execute_result"
    }
   ],
   "source": [
    "X0, Y"
   ]
  },
  {
   "cell_type": "markdown",
   "metadata": {},
   "source": [
    "# Same, but symmetric"
   ]
  },
  {
   "cell_type": "code",
   "execution_count": 233,
   "metadata": {},
   "outputs": [
    {
     "data": {
      "text/plain": [
       "array([0.62140537, 1.48865546, 2.46040092, 2.72872784, 3.10212851])"
      ]
     },
     "execution_count": 233,
     "metadata": {},
     "output_type": "execute_result"
    }
   ],
   "source": [
    "np.random.seed(0)\n",
    "X0 = np.zeros((5,5))\n",
    "X0[:,0] = [rand(),0,0,0,0]\n",
    "X0[:,1] = [0,rand(),0,0,0]\n",
    "X0[:,2] = [rand(),0,rand(),0,0]\n",
    "X0[:,3] = [rand(),rand(),0,0,0]\n",
    "X0[:,4] = [0,0,rand(),0,rand()]\n",
    "X0 = X0 + X0.T + np.eye(5)\n",
    "eigvalsh(X0)"
   ]
  },
  {
   "cell_type": "code",
   "execution_count": 230,
   "metadata": {},
   "outputs": [],
   "source": [
    "def swap(X0,i,j):\n",
    "    Y = X0.copy()\n",
    "    Y[:,i] = X0[:,j]\n",
    "    Y[:,j] = X0[:,i]\n",
    "    return Y\n",
    "\n",
    "def swap_sym(X0,i,j):\n",
    "    Y = X0.copy()\n",
    "    Y[:,i] = X0[:,j]\n",
    "    Y[:,j] = X0[:,i]\n",
    "    Y1 = Y.copy()\n",
    "    Y1[i,:] = Y[j,:]\n",
    "    Y1[j,:] = Y[i,:]\n",
    "    return Y1"
   ]
  },
  {
   "cell_type": "code",
   "execution_count": 242,
   "metadata": {},
   "outputs": [
    {
     "data": {
      "text/plain": [
       "array([[2.09762701, 0.        , 0.        , 0.4236548 , 0.60276338],\n",
       "       [0.        , 2.43037873, 0.        , 0.64589411, 0.        ],\n",
       "       [0.        , 0.        , 2.783546  , 0.        , 0.43758721],\n",
       "       [0.4236548 , 0.64589411, 0.        , 1.        , 0.        ],\n",
       "       [0.60276338, 0.        , 0.43758721, 0.        , 2.08976637]])"
      ]
     },
     "execution_count": 242,
     "metadata": {},
     "output_type": "execute_result"
    }
   ],
   "source": [
    "Y = X0.copy()\n",
    "Y = swap_sym(X0, 2, 4) # try turning this on and off\n",
    "# Y = swap_sym(X0, 0, 2) # try turning this on and off\n",
    "Y"
   ]
  },
  {
   "cell_type": "code",
   "execution_count": 243,
   "metadata": {},
   "outputs": [
    {
     "data": {
      "text/plain": [
       "array([[ 1.44831868,  0.        ,  0.        ,  0.2925149 ,  0.41618145],\n",
       "       [ 0.        ,  1.5589672 ,  0.        ,  0.41430898,  0.        ],\n",
       "       [ 0.        ,  0.        ,  1.66839624,  0.        ,  0.26228015],\n",
       "       [ 0.        ,  0.        ,  0.        ,  0.86184865, -0.14125366],\n",
       "       [ 0.        ,  0.        ,  0.        ,  0.        ,  1.35196741]])"
      ]
     },
     "execution_count": 243,
     "metadata": {},
     "output_type": "execute_result"
    }
   ],
   "source": [
    "R = cholesky(Y)\n",
    "R"
   ]
  },
  {
   "cell_type": "code",
   "execution_count": 244,
   "metadata": {},
   "outputs": [
    {
     "data": {
      "text/plain": [
       "array([[ 0.00000000e+00,  0.00000000e+00,  0.00000000e+00,\n",
       "         5.55111512e-17,  0.00000000e+00],\n",
       "       [ 0.00000000e+00,  4.44089210e-16,  0.00000000e+00,\n",
       "         0.00000000e+00,  0.00000000e+00],\n",
       "       [ 0.00000000e+00,  0.00000000e+00,  4.44089210e-16,\n",
       "         0.00000000e+00, -5.55111512e-17],\n",
       "       [ 5.55111512e-17,  0.00000000e+00,  0.00000000e+00,\n",
       "         0.00000000e+00,  1.21273863e-17],\n",
       "       [ 0.00000000e+00,  0.00000000e+00, -5.55111512e-17,\n",
       "         1.21273863e-17,  0.00000000e+00]])"
      ]
     },
     "execution_count": 244,
     "metadata": {},
     "output_type": "execute_result"
    }
   ],
   "source": [
    "# check it's a factorization \n",
    "R.T@R - Y"
   ]
  },
  {
   "cell_type": "code",
   "execution_count": 245,
   "metadata": {},
   "outputs": [
    {
     "data": {
      "text/plain": [
       "array([[False, False, False, False, False],\n",
       "       [False, False, False, False, False],\n",
       "       [False, False, False, False, False],\n",
       "       [False, False, False, False,  True],\n",
       "       [False, False, False, False, False]])"
      ]
     },
     "execution_count": 245,
     "metadata": {},
     "output_type": "execute_result"
    }
   ],
   "source": [
    "# fill-in \n",
    "(R!=0) & (Y==0)"
   ]
  },
  {
   "cell_type": "code",
   "execution_count": null,
   "metadata": {},
   "outputs": [],
   "source": []
  }
 ],
 "metadata": {
  "@webio": {
   "lastCommId": null,
   "lastKernelId": null
  },
  "kernelspec": {
   "display_name": "Python 3",
   "language": "python",
   "name": "python3"
  },
  "language_info": {
   "codemirror_mode": {
    "name": "ipython",
    "version": 3
   },
   "file_extension": ".py",
   "mimetype": "text/x-python",
   "name": "python",
   "nbconvert_exporter": "python",
   "pygments_lexer": "ipython3",
   "version": "3.8.3"
  }
 },
 "nbformat": 4,
 "nbformat_minor": 4
}
