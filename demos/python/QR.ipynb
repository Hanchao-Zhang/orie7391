{
 "cells": [
  {
   "cell_type": "code",
   "execution_count": 88,
   "metadata": {},
   "outputs": [],
   "source": [
    "from scipy.linalg import qr, cholesky, pinv, solve, norm\n",
    "from numpy.random import randn, rand\n",
    "from numpy.linalg import lstsq, eigvalsh\n",
    "import numpy as np"
   ]
  },
  {
   "cell_type": "code",
   "execution_count": 35,
   "metadata": {},
   "outputs": [],
   "source": [
    "# generate random data matrix\n",
    "n,d = 6,4\n",
    "X = randn(n,d)\n",
    "\n",
    "# optional: give it linearly dependent columns\n",
    "# X[:,3] = X[:,2]"
   ]
  },
  {
   "cell_type": "markdown",
   "metadata": {},
   "source": [
    "# Understanding the pseudoinverse"
   ]
  },
  {
   "cell_type": "code",
   "execution_count": 36,
   "metadata": {},
   "outputs": [],
   "source": [
    "# form pseudoinverse\n",
    "Xd = pinv(X)"
   ]
  },
  {
   "cell_type": "code",
   "execution_count": 37,
   "metadata": {},
   "outputs": [
    {
     "data": {
      "text/plain": [
       "array([[ 1.00000000e+00,  1.21325658e-15, -5.93354903e-16,\n",
       "        -5.22569701e-16],\n",
       "       [ 1.63390620e-16,  1.00000000e+00,  3.49192965e-16,\n",
       "        -2.96482188e-17],\n",
       "       [-2.24863718e-16, -1.77875162e-16,  1.00000000e+00,\n",
       "         2.08881750e-16],\n",
       "       [ 2.16871217e-16,  7.86582834e-16, -4.72861238e-16,\n",
       "         1.00000000e+00]])"
      ]
     },
     "execution_count": 37,
     "metadata": {},
     "output_type": "execute_result"
    }
   ],
   "source": [
    "# X†X ≈ I_d\n",
    "Xd @ X"
   ]
  },
  {
   "cell_type": "code",
   "execution_count": 38,
   "metadata": {},
   "outputs": [
    {
     "data": {
      "text/plain": [
       "True"
      ]
     },
     "execution_count": 38,
     "metadata": {},
     "output_type": "execute_result"
    }
   ],
   "source": [
    "np.allclose(Xd @ X, np.identity(4))"
   ]
  },
  {
   "cell_type": "code",
   "execution_count": 39,
   "metadata": {},
   "outputs": [
    {
     "data": {
      "text/plain": [
       "array([[ 0.9248032 ,  0.11448589, -0.12772691, -0.01725997, -0.18661504,\n",
       "        -0.0706964 ],\n",
       "       [ 0.11448589,  0.8082757 ,  0.29677779, -0.00583499,  0.20967187,\n",
       "         0.0989226 ],\n",
       "       [-0.12772691,  0.29677779,  0.18214885,  0.15928191,  0.12024443,\n",
       "        -0.0689201 ],\n",
       "       [-0.01725997, -0.00583499,  0.15928191,  0.9368442 , -0.1800615 ,\n",
       "        -0.03228498],\n",
       "       [-0.18661504,  0.20967187,  0.12024443, -0.1800615 ,  0.21874955,\n",
       "        -0.21267312],\n",
       "       [-0.0706964 ,  0.0989226 , -0.0689201 , -0.03228498, -0.21267312,\n",
       "         0.9291785 ]])"
      ]
     },
     "execution_count": 39,
     "metadata": {},
     "output_type": "execute_result"
    }
   ],
   "source": [
    "# XX† !≈ I_n\n",
    "X @ Xd"
   ]
  },
  {
   "cell_type": "code",
   "execution_count": 40,
   "metadata": {},
   "outputs": [
    {
     "data": {
      "text/plain": [
       "False"
      ]
     },
     "execution_count": 40,
     "metadata": {},
     "output_type": "execute_result"
    }
   ],
   "source": [
    "np.allclose(X @ Xd, np.identity(6))"
   ]
  },
  {
   "cell_type": "code",
   "execution_count": 41,
   "metadata": {},
   "outputs": [],
   "source": [
    "Q,R = qr(X)\n",
    "Q,R = qr(X, mode='economic')"
   ]
  },
  {
   "cell_type": "code",
   "execution_count": 42,
   "metadata": {},
   "outputs": [
    {
     "data": {
      "text/plain": [
       "True"
      ]
     },
     "execution_count": 42,
     "metadata": {},
     "output_type": "execute_result"
    }
   ],
   "source": [
    "np.allclose(X, Q @ R)"
   ]
  },
  {
   "cell_type": "code",
   "execution_count": 43,
   "metadata": {},
   "outputs": [
    {
     "data": {
      "text/plain": [
       "array([[-4.86365563e-02, -6.47395955e-01, -5.76663051e-01,\n",
       "        -4.13250393e-01],\n",
       "       [ 2.87531592e-01,  9.47934881e-03,  3.29462942e-01,\n",
       "        -7.85471575e-01],\n",
       "       [ 2.95162678e-01,  1.76161410e-01,  1.46580956e-01,\n",
       "        -2.06177164e-01],\n",
       "       [ 4.23842280e-01,  6.04249889e-01, -6.19658653e-01,\n",
       "        -9.00397114e-02],\n",
       "       [ 2.45277032e-01, -7.03608799e-02,  3.91727744e-01,\n",
       "        -1.36913590e-02],\n",
       "       [-7.66835029e-01,  4.23895266e-01, -6.68437928e-04,\n",
       "        -4.01814499e-01]])"
      ]
     },
     "execution_count": 43,
     "metadata": {},
     "output_type": "execute_result"
    }
   ],
   "source": [
    "Q"
   ]
  },
  {
   "cell_type": "code",
   "execution_count": 44,
   "metadata": {},
   "outputs": [
    {
     "data": {
      "text/plain": [
       "array([[ 1.11312779,  0.24356613, -0.53663007, -1.00916615],\n",
       "       [ 0.        ,  2.02062798, -1.51899367, -0.7970204 ],\n",
       "       [ 0.        ,  0.        , -1.65963705, -0.32369515],\n",
       "       [ 0.        ,  0.        ,  0.        ,  1.49871313]])"
      ]
     },
     "execution_count": 44,
     "metadata": {},
     "output_type": "execute_result"
    }
   ],
   "source": [
    "R"
   ]
  },
  {
   "cell_type": "code",
   "execution_count": 45,
   "metadata": {},
   "outputs": [
    {
     "name": "stdout",
     "output_type": "stream",
     "text": [
      "True\n"
     ]
    },
    {
     "data": {
      "text/plain": [
       "array([[1.00000000e+00, 1.26792505e-16, 1.09105457e-16, 7.54070614e-17],\n",
       "       [1.26792505e-16, 1.00000000e+00, 6.56988706e-17, 3.91868159e-16],\n",
       "       [1.09105457e-16, 6.56988706e-17, 1.00000000e+00, 1.25473289e-16],\n",
       "       [7.54070614e-17, 3.91868159e-16, 1.25473289e-16, 1.00000000e+00]])"
      ]
     },
     "execution_count": 45,
     "metadata": {},
     "output_type": "execute_result"
    }
   ],
   "source": [
    "print(np.allclose(Q.T @ Q, np.identity(Q.shape[1])))\n",
    "Q.T @ Q"
   ]
  },
  {
   "cell_type": "code",
   "execution_count": 46,
   "metadata": {},
   "outputs": [],
   "source": [
    "# form data from noisy linear model\n",
    "wtrue = randn(d)\n",
    "y = X.dot(wtrue) + .01*randn(n)"
   ]
  },
  {
   "cell_type": "code",
   "execution_count": 47,
   "metadata": {},
   "outputs": [],
   "source": [
    "# solve least squares problem to estimate w\n",
    "Q,R = qr(X, mode='economic')\n",
    "w = solve(R, Q.T @ y)"
   ]
  },
  {
   "cell_type": "code",
   "execution_count": 48,
   "metadata": {},
   "outputs": [
    {
     "data": {
      "text/plain": [
       "0.013699048850174042"
      ]
     },
     "execution_count": 48,
     "metadata": {},
     "output_type": "execute_result"
    }
   ],
   "source": [
    "# how good is our estimate?\n",
    "norm(w - wtrue)"
   ]
  },
  {
   "cell_type": "code",
   "execution_count": 49,
   "metadata": {},
   "outputs": [
    {
     "data": {
      "text/plain": [
       "1.1082810525817631e-06"
      ]
     },
     "execution_count": 49,
     "metadata": {},
     "output_type": "execute_result"
    }
   ],
   "source": [
    "# compute mean square error\n",
    "def mse(y,z):\n",
    "    return sum((y-z)**2)/len(y)\n",
    "    \n",
    "mse(y,X.dot(w))"
   ]
  },
  {
   "cell_type": "code",
   "execution_count": 50,
   "metadata": {},
   "outputs": [
    {
     "data": {
      "text/plain": [
       "8.3820000221454525e-16"
      ]
     },
     "execution_count": 50,
     "metadata": {},
     "output_type": "execute_result"
    }
   ],
   "source": [
    "# we can use the numpy.lstsq call instead\n",
    "w_lstsq = np.linalg.lstsq(X, y, rcond=None)[0]\n",
    "norm(w_lstsq - w)"
   ]
  },
  {
   "cell_type": "markdown",
   "metadata": {},
   "source": [
    "# Compute QR by hand"
   ]
  },
  {
   "cell_type": "code",
   "execution_count": 51,
   "metadata": {},
   "outputs": [
    {
     "data": {
      "text/plain": [
       "array([[-0.04863656,  0.        ,  0.        ,  0.        ,  0.        ,\n",
       "         0.        ],\n",
       "       [ 0.28753159,  0.        ,  0.        ,  0.        ,  0.        ,\n",
       "         0.        ],\n",
       "       [ 0.29516268,  0.        ,  0.        ,  0.        ,  0.        ,\n",
       "         0.        ],\n",
       "       [ 0.42384228,  0.        ,  0.        ,  0.        ,  0.        ,\n",
       "         0.        ],\n",
       "       [ 0.24527703,  0.        ,  0.        ,  0.        ,  0.        ,\n",
       "         0.        ],\n",
       "       [-0.76683503,  0.        ,  0.        ,  0.        ,  0.        ,\n",
       "         0.        ]])"
      ]
     },
     "execution_count": 51,
     "metadata": {},
     "output_type": "execute_result"
    }
   ],
   "source": [
    "n,d = X.shape \n",
    "X0 = X.copy()\n",
    "R = np.zeros((n,d))\n",
    "Q = np.zeros((n,n))\n",
    "\n",
    "# first column of Q points in direction of first column of X\n",
    "r = norm(X[:,0])\n",
    "Q[:,0] = X[:,0]/r\n",
    "Q"
   ]
  },
  {
   "cell_type": "code",
   "execution_count": 52,
   "metadata": {},
   "outputs": [],
   "source": [
    "# ensure Q*R matches X on first column\n",
    "R[0,0] = r"
   ]
  },
  {
   "cell_type": "code",
   "execution_count": 53,
   "metadata": {},
   "outputs": [
    {
     "data": {
      "text/plain": [
       "array([0.00000000e+00, 0.00000000e+00, 0.00000000e+00, 0.00000000e+00,\n",
       "       0.00000000e+00, 1.11022302e-16])"
      ]
     },
     "execution_count": 53,
     "metadata": {},
     "output_type": "execute_result"
    }
   ],
   "source": [
    "# verify Q*R matches X in first column\n",
    "(Q@R - X)[:,0]"
   ]
  },
  {
   "cell_type": "code",
   "execution_count": 54,
   "metadata": {},
   "outputs": [],
   "source": [
    "# now delete that part from X; we've covered it already\n",
    "X[:,0] -= Q[:,0]*R[0,0]"
   ]
  },
  {
   "cell_type": "code",
   "execution_count": 55,
   "metadata": {},
   "outputs": [
    {
     "data": {
      "text/plain": [
       "array([[ True,  True,  True,  True],\n",
       "       [ True,  True,  True,  True],\n",
       "       [ True,  True,  True,  True],\n",
       "       [ True,  True,  True,  True],\n",
       "       [ True,  True,  True,  True],\n",
       "       [ True,  True,  True,  True]])"
      ]
     },
     "execution_count": 55,
     "metadata": {},
     "output_type": "execute_result"
    }
   ],
   "source": [
    "# verify Q*R + X = X0\n",
    "np.isclose(Q@R + X, X0)"
   ]
  },
  {
   "cell_type": "code",
   "execution_count": 56,
   "metadata": {},
   "outputs": [
    {
     "data": {
      "text/plain": [
       "array([[ 1.11312779,  0.24356613, -0.53663007, -1.00916615],\n",
       "       [ 0.        ,  0.        ,  0.        ,  0.        ],\n",
       "       [ 0.        ,  0.        ,  0.        ,  0.        ],\n",
       "       [ 0.        ,  0.        ,  0.        ,  0.        ],\n",
       "       [ 0.        ,  0.        ,  0.        ,  0.        ],\n",
       "       [ 0.        ,  0.        ,  0.        ,  0.        ]])"
      ]
     },
     "execution_count": 56,
     "metadata": {},
     "output_type": "execute_result"
    }
   ],
   "source": [
    "# eliminate component of other columns in direction of first column of Q \n",
    "for j in range(1,d):\n",
    "    R[0,j] = Q[:,0].dot(X[:,j])\n",
    "    X[:,j] -= Q[:,0]*R[0,j]\n",
    "R"
   ]
  },
  {
   "cell_type": "code",
   "execution_count": 57,
   "metadata": {},
   "outputs": [
    {
     "data": {
      "text/plain": [
       "array([[ True,  True,  True,  True],\n",
       "       [ True,  True,  True,  True],\n",
       "       [ True,  True,  True,  True],\n",
       "       [ True,  True,  True,  True],\n",
       "       [ True,  True,  True,  True],\n",
       "       [ True,  True,  True,  True]])"
      ]
     },
     "execution_count": 57,
     "metadata": {},
     "output_type": "execute_result"
    }
   ],
   "source": [
    "# verify Q*R + X = X0\n",
    "np.isclose(Q@R + X, X0)"
   ]
  },
  {
   "cell_type": "code",
   "execution_count": 58,
   "metadata": {},
   "outputs": [
    {
     "name": "stdout",
     "output_type": "stream",
     "text": [
      "iteration 0 : QR + X = X0? True\n",
      "iteration 1 : QR + X = X0? True\n",
      "iteration 2 : QR + X = X0? True\n",
      "iteration 3 : QR + X = X0? True\n"
     ]
    }
   ],
   "source": [
    "# now for all the columns!\n",
    "X = X0.copy()\n",
    "Q *= 0\n",
    "R *= 0\n",
    "\n",
    "# compute the QR decomposition\n",
    "for i in range(d):\n",
    "    r = norm(X[:,i])\n",
    "    Q[:,i] = X[:,i]/r\n",
    "    for j in range(i,d):\n",
    "        R[i,j] = Q[:,i].dot(X[:,j])\n",
    "        X[:,j] -= Q[:,i]*R[i,j]\n",
    "    print(\"iteration\",i,\": QR + X = X0?\", np.isclose(Q@R + X, X0).all())"
   ]
  },
  {
   "cell_type": "code",
   "execution_count": 59,
   "metadata": {},
   "outputs": [
    {
     "data": {
      "text/plain": [
       "array([[-4.86365563e-02, -6.47395955e-01,  5.76663051e-01,\n",
       "        -4.13250393e-01,  0.00000000e+00,  0.00000000e+00],\n",
       "       [ 2.87531592e-01,  9.47934881e-03, -3.29462942e-01,\n",
       "        -7.85471575e-01,  0.00000000e+00,  0.00000000e+00],\n",
       "       [ 2.95162678e-01,  1.76161410e-01, -1.46580956e-01,\n",
       "        -2.06177164e-01,  0.00000000e+00,  0.00000000e+00],\n",
       "       [ 4.23842280e-01,  6.04249889e-01,  6.19658653e-01,\n",
       "        -9.00397114e-02,  0.00000000e+00,  0.00000000e+00],\n",
       "       [ 2.45277032e-01, -7.03608799e-02, -3.91727744e-01,\n",
       "        -1.36913590e-02,  0.00000000e+00,  0.00000000e+00],\n",
       "       [-7.66835029e-01,  4.23895266e-01,  6.68437928e-04,\n",
       "        -4.01814499e-01,  0.00000000e+00,  0.00000000e+00]])"
      ]
     },
     "execution_count": 59,
     "metadata": {},
     "output_type": "execute_result"
    }
   ],
   "source": [
    "Q"
   ]
  },
  {
   "cell_type": "code",
   "execution_count": 60,
   "metadata": {},
   "outputs": [
    {
     "data": {
      "text/plain": [
       "array([[ 1.11312779,  0.24356613, -0.53663007, -1.00916615],\n",
       "       [ 0.        ,  2.02062798, -1.51899367, -0.7970204 ],\n",
       "       [ 0.        ,  0.        ,  1.65963705,  0.32369515],\n",
       "       [ 0.        ,  0.        ,  0.        ,  1.49871313],\n",
       "       [ 0.        ,  0.        ,  0.        ,  0.        ],\n",
       "       [ 0.        ,  0.        ,  0.        ,  0.        ]])"
      ]
     },
     "execution_count": 60,
     "metadata": {},
     "output_type": "execute_result"
    }
   ],
   "source": [
    "R"
   ]
  },
  {
   "cell_type": "code",
   "execution_count": 61,
   "metadata": {},
   "outputs": [],
   "source": [
    "\"\"\"Our very own QR function to compute the economy QR\"\"\"\n",
    "def ourQR(X0):\n",
    "    X = X0.copy()\n",
    "    n,d = X.shape\n",
    "    R = np.zeros((n,d))\n",
    "    Q = np.zeros((n,n))\n",
    "\n",
    "    # compute the QR decomposition\n",
    "    for i in range(d):\n",
    "        r = norm(X[:,i])\n",
    "        Q[:,i] = X[:,i]/r\n",
    "        for j in range(i,d):\n",
    "            R[i,j] = Q[:,i].dot(X[:,j])\n",
    "            X[:,j] -= Q[:,i]*R[i,j]\n",
    "    return Q,R"
   ]
  },
  {
   "cell_type": "code",
   "execution_count": 62,
   "metadata": {},
   "outputs": [],
   "source": [
    "# solve least squares problem to estimate w\n",
    "Q,R = ourQR(X0)\n",
    "w_byhand = solve(R[:d,:d], (Q.T @ y)[:d])"
   ]
  },
  {
   "cell_type": "code",
   "execution_count": 63,
   "metadata": {},
   "outputs": [
    {
     "data": {
      "text/plain": [
       "7.63656720759043e-16"
      ]
     },
     "execution_count": 63,
     "metadata": {},
     "output_type": "execute_result"
    }
   ],
   "source": [
    "norm(w_byhand - w)"
   ]
  },
  {
   "cell_type": "markdown",
   "metadata": {},
   "source": [
    "# The importance of the permutation"
   ]
  },
  {
   "cell_type": "code",
   "execution_count": 140,
   "metadata": {},
   "outputs": [],
   "source": [
    "X0 = np.zeros((3,3))\n",
    "X0[:,0] = [1,1,0]\n",
    "X0[:,1] = [0,1,0]\n",
    "X0[:,2] = [0,1,1]\n",
    "X0\n",
    "\n",
    "Y = X0.copy()\n",
    "Y[:,1] = X0[:,0]\n",
    "Y[:,0] = X0[:,1]"
   ]
  },
  {
   "cell_type": "code",
   "execution_count": 144,
   "metadata": {},
   "outputs": [
    {
     "data": {
      "text/plain": [
       "array([[1., 0., 0.],\n",
       "       [1., 1., 1.],\n",
       "       [0., 0., 1.]])"
      ]
     },
     "execution_count": 144,
     "metadata": {},
     "output_type": "execute_result"
    }
   ],
   "source": [
    "# try X0 vs Y \n",
    "X = X0.copy()\n",
    "# X = Y.copy()\n",
    "X"
   ]
  },
  {
   "cell_type": "code",
   "execution_count": 145,
   "metadata": {},
   "outputs": [
    {
     "name": "stdout",
     "output_type": "stream",
     "text": [
      "iteration 0 : QR + X = X0? True\n",
      "iteration 1 : QR + X = X0? True\n",
      "iteration 2 : QR + X = X0? True\n"
     ]
    }
   ],
   "source": [
    "# now for all the columns!\n",
    "n,d = X.shape\n",
    "Q = np.zeros((n,n))\n",
    "R = np.zeros((n,d))\n",
    "\n",
    "# compute the QR decomposition\n",
    "for i in range(d):\n",
    "    r = norm(X[:,i])\n",
    "    Q[:,i] = X[:,i]/r\n",
    "    for j in range(i,d):\n",
    "        R[i,j] = Q[:,i].dot(X[:,j])\n",
    "        X[:,j] -= Q[:,i]*R[i,j]\n",
    "    print(\"iteration\",i,\": QR + X = X0?\", np.isclose(Q@R + X, X0).all())"
   ]
  },
  {
   "cell_type": "code",
   "execution_count": 146,
   "metadata": {},
   "outputs": [
    {
     "data": {
      "text/plain": [
       "(array([[ 7.07106781e-01, -7.07106781e-01, -5.55111512e-17],\n",
       "        [ 7.07106781e-01,  7.07106781e-01,  0.00000000e+00],\n",
       "        [ 0.00000000e+00,  0.00000000e+00,  1.00000000e+00]]),\n",
       " array([[1.41421356, 0.70710678, 0.70710678],\n",
       "        [0.        , 0.70710678, 0.70710678],\n",
       "        [0.        , 0.        , 1.        ]]))"
      ]
     },
     "execution_count": 146,
     "metadata": {},
     "output_type": "execute_result"
    }
   ],
   "source": [
    "Q,R"
   ]
  },
  {
   "cell_type": "markdown",
   "metadata": {},
   "source": [
    "The number of nonzeros in Q and R is larger using the first permutation (X0) than the second (Y). Why?"
   ]
  },
  {
   "cell_type": "code",
   "execution_count": 147,
   "metadata": {},
   "outputs": [
    {
     "data": {
      "text/plain": [
       "(4, 6)"
      ]
     },
     "execution_count": 147,
     "metadata": {},
     "output_type": "execute_result"
    }
   ],
   "source": [
    "zero = 1e-16\n",
    "(Q>zero).sum(), (R>zero).sum()"
   ]
  },
  {
   "cell_type": "code",
   "execution_count": 148,
   "metadata": {},
   "outputs": [
    {
     "data": {
      "text/plain": [
       "(array([[1., 0., 0.],\n",
       "        [1., 1., 1.],\n",
       "        [0., 0., 1.]]),\n",
       " array([[0., 1., 0.],\n",
       "        [1., 1., 1.],\n",
       "        [0., 0., 1.]]))"
      ]
     },
     "execution_count": 148,
     "metadata": {},
     "output_type": "execute_result"
    }
   ],
   "source": [
    "X0, Y"
   ]
  },
  {
   "cell_type": "markdown",
   "metadata": {},
   "source": [
    "# Same, but symmetric"
   ]
  },
  {
   "cell_type": "code",
   "execution_count": 76,
   "metadata": {},
   "outputs": [
    {
     "data": {
      "text/plain": [
       "array([0.62140537, 1.48865546, 2.46040092, 2.72872784, 3.10212851])"
      ]
     },
     "execution_count": 76,
     "metadata": {},
     "output_type": "execute_result"
    }
   ],
   "source": [
    "np.random.seed(0)\n",
    "X0 = np.zeros((5,5))\n",
    "X0[:,0] = [rand(),0,0,0,0]\n",
    "X0[:,1] = [0,rand(),0,0,0]\n",
    "X0[:,2] = [rand(),0,rand(),0,0]\n",
    "X0[:,3] = [rand(),rand(),0,0,0]\n",
    "X0[:,4] = [0,0,rand(),0,rand()]\n",
    "X0 = X0 + X0.T + np.eye(5)\n",
    "eigvalsh(X0)"
   ]
  },
  {
   "cell_type": "code",
   "execution_count": 79,
   "metadata": {},
   "outputs": [
    {
     "data": {
      "text/plain": [
       "array([[2.09762701, 0.        , 0.        , 0.4236548 , 0.60276338],\n",
       "       [0.        , 2.43037873, 0.        , 0.64589411, 0.        ],\n",
       "       [0.        , 0.        , 2.783546  , 0.        , 0.43758721],\n",
       "       [0.4236548 , 0.64589411, 0.        , 1.        , 0.        ],\n",
       "       [0.60276338, 0.        , 0.43758721, 0.        , 2.08976637]])"
      ]
     },
     "execution_count": 79,
     "metadata": {},
     "output_type": "execute_result"
    }
   ],
   "source": [
    "def swap(X0,i,j):\n",
    "    Y = X0.copy()\n",
    "    Y[:,i] = X0[:,j]\n",
    "    Y[:,j] = X0[:,i]\n",
    "    return Y\n",
    "\n",
    "def swap_sym(X0,i,j):\n",
    "    Y = X0.copy()\n",
    "    Y[:,i] = X0[:,j]\n",
    "    Y[:,j] = X0[:,i]\n",
    "    Y1 = Y.copy()\n",
    "    Y1[i,:] = Y[j,:]\n",
    "    Y1[j,:] = Y[i,:]\n",
    "    return Y1"
   ]
  },
  {
   "cell_type": "code",
   "execution_count": 115,
   "metadata": {},
   "outputs": [
    {
     "data": {
      "text/plain": [
       "array([[2.09762701, 0.        , 0.        , 0.4236548 , 0.60276338],\n",
       "       [0.        , 2.43037873, 0.        , 0.64589411, 0.        ],\n",
       "       [0.        , 0.        , 2.783546  , 0.        , 0.43758721],\n",
       "       [0.4236548 , 0.64589411, 0.        , 1.        , 0.        ],\n",
       "       [0.60276338, 0.        , 0.43758721, 0.        , 2.08976637]])"
      ]
     },
     "execution_count": 115,
     "metadata": {},
     "output_type": "execute_result"
    }
   ],
   "source": [
    "Y = X0.copy()\n",
    "# Y = swap_sym(X0, 2, 4) # try turning this on and off\n",
    "Y"
   ]
  },
  {
   "cell_type": "code",
   "execution_count": 116,
   "metadata": {},
   "outputs": [
    {
     "data": {
      "text/plain": [
       "array([[ 1.44831868,  0.        ,  0.        ,  0.2925149 ,  0.41618145],\n",
       "       [ 0.        ,  1.5589672 ,  0.        ,  0.41430898,  0.        ],\n",
       "       [ 0.        ,  0.        ,  1.66839624,  0.        ,  0.26228015],\n",
       "       [ 0.        ,  0.        ,  0.        ,  0.86184865, -0.14125366],\n",
       "       [ 0.        ,  0.        ,  0.        ,  0.        ,  1.35196741]])"
      ]
     },
     "execution_count": 116,
     "metadata": {},
     "output_type": "execute_result"
    }
   ],
   "source": [
    "R = cholesky(Y)\n",
    "R"
   ]
  },
  {
   "cell_type": "code",
   "execution_count": 117,
   "metadata": {},
   "outputs": [
    {
     "data": {
      "text/plain": [
       "array([[ 0.00000000e+00,  0.00000000e+00,  0.00000000e+00,\n",
       "         5.55111512e-17,  0.00000000e+00],\n",
       "       [ 0.00000000e+00,  4.44089210e-16,  0.00000000e+00,\n",
       "         0.00000000e+00,  0.00000000e+00],\n",
       "       [ 0.00000000e+00,  0.00000000e+00,  4.44089210e-16,\n",
       "         0.00000000e+00, -5.55111512e-17],\n",
       "       [ 5.55111512e-17,  0.00000000e+00,  0.00000000e+00,\n",
       "         0.00000000e+00,  1.21273863e-17],\n",
       "       [ 0.00000000e+00,  0.00000000e+00, -5.55111512e-17,\n",
       "         1.21273863e-17,  0.00000000e+00]])"
      ]
     },
     "execution_count": 117,
     "metadata": {},
     "output_type": "execute_result"
    }
   ],
   "source": [
    "# check it's a factorization \n",
    "R.T@R - Y"
   ]
  },
  {
   "cell_type": "code",
   "execution_count": 118,
   "metadata": {},
   "outputs": [
    {
     "data": {
      "text/plain": [
       "array([[False, False, False, False, False],\n",
       "       [False, False, False, False, False],\n",
       "       [False, False, False, False, False],\n",
       "       [False, False, False, False,  True],\n",
       "       [False, False, False, False, False]])"
      ]
     },
     "execution_count": 118,
     "metadata": {},
     "output_type": "execute_result"
    }
   ],
   "source": [
    "# fill-in \n",
    "(R!=0) & (Y==0)"
   ]
  },
  {
   "cell_type": "code",
   "execution_count": null,
   "metadata": {},
   "outputs": [],
   "source": []
  }
 ],
 "metadata": {
  "@webio": {
   "lastCommId": null,
   "lastKernelId": null
  },
  "kernelspec": {
   "display_name": "Python 3",
   "language": "python",
   "name": "python3"
  },
  "language_info": {
   "codemirror_mode": {
    "name": "ipython",
    "version": 3
   },
   "file_extension": ".py",
   "mimetype": "text/x-python",
   "name": "python",
   "nbconvert_exporter": "python",
   "pygments_lexer": "ipython3",
   "version": "3.8.3"
  }
 },
 "nbformat": 4,
 "nbformat_minor": 4
}
