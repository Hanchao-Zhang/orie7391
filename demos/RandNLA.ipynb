{
 "cells": [
  {
   "cell_type": "code",
   "execution_count": 1,
   "metadata": {},
   "outputs": [],
   "source": [
    "using LinearAlgebra\n",
    "using Random"
   ]
  },
  {
   "cell_type": "code",
   "execution_count": 2,
   "metadata": {},
   "outputs": [
    {
     "data": {
      "text/plain": [
       "30×40 Array{Float64,2}:\n",
       "  0.679107   -0.762677   -0.0303032  …   0.511295    -1.34481    -0.458241\n",
       "  0.828413    1.42305    -1.31924       -0.821429    -0.569668    2.19028\n",
       " -0.353007    0.408387   -0.482604      -0.246583    -2.70494    -1.94998\n",
       " -0.134854    0.588621   -1.15755       -0.326697     0.692166   -0.532182\n",
       "  0.586617   -0.296278   -0.21415       -0.00636685  -1.27827     0.691888\n",
       "  0.297336    0.691111   -1.37193    …  -0.971952    -0.116177   -0.58729\n",
       "  0.0649475   0.506874   -1.53806       -0.131606    -0.121199    0.106751\n",
       " -0.109017   -0.0569299  -1.22742        1.1406       0.340587   -1.35188\n",
       " -0.51421    -1.77102    -1.95848        1.36668     -0.518573   -1.51645\n",
       "  1.57433     1.59062    -0.473131      -1.11061     -0.353572    0.470316\n",
       " -0.688907    1.39706     1.33875    …   0.401544     0.557788    1.24658\n",
       " -0.762804    0.481556    0.807817       0.31931      1.40592    -0.7301\n",
       "  0.397482   -0.321943   -1.05092        1.14304     -2.05401     0.0852577\n",
       "  ⋮                                  ⋱                           \n",
       "  2.27623    -0.162504    1.09686       -1.69453     -1.59996    -1.32707\n",
       "  0.219693   -0.0671867  -0.251059      -1.42791     -0.838656    1.02702\n",
       " -0.651264    0.407257    0.292293   …  -0.819193    -0.543117    0.984895\n",
       " -0.117138    0.577282   -3.46737        0.252502     0.40192     0.944021\n",
       " -0.601254    0.891315   -1.82322       -0.0729498   -0.640772   -1.1485\n",
       "  1.14228    -2.29449    -0.528431      -2.08471      0.749132   -0.372894\n",
       " -0.0886163  -1.17303     0.117472      -0.422622    -0.0913305   2.01377\n",
       "  0.279466   -0.879915    2.10356    …  -0.499657    -0.773636    1.99609\n",
       "  0.111422   -0.494043    1.52285        1.67644     -1.13455    -1.53363\n",
       " -0.357884    0.511959   -2.10845        2.07903      0.467266    0.410298\n",
       "  0.473714   -0.758701    0.556741       0.594743     0.475124   -0.586561\n",
       "  0.300234   -0.76796    -0.568854      -0.996025    -0.166268   -0.536391"
      ]
     },
     "execution_count": 2,
     "metadata": {},
     "output_type": "execute_result"
    }
   ],
   "source": [
    "Random.seed!(0)\n",
    "m,n = 30,40\n",
    "A = randn(m,n)"
   ]
  },
  {
   "cell_type": "code",
   "execution_count": 3,
   "metadata": {},
   "outputs": [
    {
     "data": {
      "text/plain": [
       "30×3 Array{Float64,2}:\n",
       " -0.0884091  -0.170785     0.189007\n",
       "  0.348881    0.00855675  -0.0316206\n",
       "  0.057991    0.108026    -0.211148\n",
       "  0.0524044   0.117656     0.129489\n",
       " -0.198116   -0.0756728    0.166696\n",
       " -0.278495   -0.0390785    0.14356\n",
       " -0.0929633   0.00245411  -0.170842\n",
       " -0.184657   -0.414333    -0.152659\n",
       "  0.0653636   0.0854742    0.214072\n",
       "  0.215567    0.375084     0.032067\n",
       "  0.0124669   0.226661    -0.438028\n",
       " -0.111486   -0.0384466   -0.282908\n",
       "  0.203644    0.0150304    0.286124\n",
       "  ⋮                       \n",
       " -0.0936547   0.248655    -0.108251\n",
       " -0.260155    0.0765638    0.0493581\n",
       "  0.106882   -0.221109    -0.29414\n",
       "  0.201581    0.0111895    0.291133\n",
       " -0.115511    0.337995     0.0087112\n",
       " -0.193188   -0.120869     0.0933842\n",
       "  0.0475955  -0.183511    -0.0500185\n",
       "  0.277769   -0.11263      0.0571816\n",
       "  0.133548   -0.0381261   -0.0883439\n",
       "  0.226049   -0.226249     0.0383423\n",
       " -0.0892939  -0.148721     0.0934385\n",
       " -0.132403    0.310173     0.14478"
      ]
     },
     "execution_count": 3,
     "metadata": {},
     "output_type": "execute_result"
    }
   ],
   "source": [
    "Random.seed!(0)\n",
    "\n",
    "# target rank\n",
    "r = 3\n",
    "l = r+1 # sketch is just a tad larger than target rank\n",
    "Ω = randn(n,l)\n",
    "\n",
    "# randomized rangefinder\n",
    "Y = A*Ω\n",
    "factors = qr(Y)\n",
    "Q = factors.Q[:,1:r]"
   ]
  },
  {
   "cell_type": "code",
   "execution_count": 4,
   "metadata": {},
   "outputs": [
    {
     "name": "stdout",
     "output_type": "stream",
     "text": [
      "Error in randomized rank r approximation is 32.77317174227981"
     ]
    }
   ],
   "source": [
    "# randomized SVD\n",
    "C = Q'*A\n",
    "factors = svd(C)\n",
    "U,S,Vt = Q*factors.U, factors.S, factors.Vt\n",
    "S[r+1:end] .= 0\n",
    "print(\"Error in randomized rank r approximation is \", norm(U*diagm(S)*Vt - A))"
   ]
  },
  {
   "cell_type": "code",
   "execution_count": 5,
   "metadata": {},
   "outputs": [
    {
     "name": "stdout",
     "output_type": "stream",
     "text": [
      "Optimal error for any rank r factorization is 30.326373927281956"
     ]
    }
   ],
   "source": [
    "# not much worse than the best possible \n",
    "print(\"Optimal error for any rank r factorization is \", norm(svd(A).S[r+1:end]))"
   ]
  },
  {
   "cell_type": "markdown",
   "metadata": {},
   "source": [
    "# single pass randomized SVD"
   ]
  },
  {
   "cell_type": "code",
   "execution_count": 6,
   "metadata": {},
   "outputs": [
    {
     "name": "stdout",
     "output_type": "stream",
     "text": [
      "Error in randomized rank r approximation is 40.49869287202217\n",
      "Optimal error for any rank r factorization is 30.326373927281956\n"
     ]
    }
   ],
   "source": [
    "# target rank\n",
    "Random.seed!(0)\n",
    "r = 3\n",
    "l = 2r+1 # sketch is double target rank\n",
    "k = 2l+1\n",
    "Ω = randn(n,l)\n",
    "Ψ = randn(k,m)\n",
    "\n",
    "# form sketch\n",
    "Y = A*Ω\n",
    "W = Ψ*A\n",
    "\n",
    "# recover\n",
    "factors = qr(Y)\n",
    "Q = factors.Q[:,1:l]\n",
    "B = (Ψ*Q) \\ W\n",
    "factors = svd(B)\n",
    "U,S,Vt = Q*factors.U, factors.S, factors.Vt\n",
    "S[r+1:end] .= 0\n",
    "println(\"Error in randomized rank r approximation is \", norm(U*diagm(S)*Vt - A))\n",
    "println(\"Optimal error for any rank r factorization is \", norm(svd(A).S[r+1:end]))"
   ]
  },
  {
   "cell_type": "markdown",
   "metadata": {},
   "source": [
    "# Error as a function of oversampling"
   ]
  },
  {
   "cell_type": "code",
   "execution_count": 7,
   "metadata": {},
   "outputs": [
    {
     "data": {
      "text/plain": [
       "11-element Array{Float64,1}:\n",
       " 1.0276610464624685\n",
       " 1.017244067043012\n",
       " 1.0199929413466724\n",
       " 1.0208700283546948\n",
       " 1.016168710454389\n",
       " 1.0070504806973306\n",
       " 1.0120167374067968\n",
       " 1.0120131037388538\n",
       " 1.0098980677111464\n",
       " 1.011316346696152\n",
       " 1.005723746059919"
      ]
     },
     "execution_count": 7,
     "metadata": {},
     "output_type": "execute_result"
    }
   ],
   "source": [
    "Random.seed!(0)\n",
    "\n",
    "# target rank\n",
    "r = 1\n",
    "function rsvd_error(oversampling)\n",
    "    l = r+oversampling # sketch is just a tad larger than target rank\n",
    "    Ω = randn(n,l)\n",
    "\n",
    "    # randomized rangefinder\n",
    "    Y = A*Ω\n",
    "    factors = qr(Y)\n",
    "    Q = factors.Q[:,1:l]\n",
    "    C = Q'*A\n",
    "    factors = svd(C)\n",
    "    U,S,Vt = Q*factors.U, factors.S, factors.Vt\n",
    "    S[r+1:end] .= 0\n",
    "    return norm(U*diagm(S)*Vt - A)\n",
    "end\n",
    "\n",
    "opt_error = norm(svd(A).S[r+1:end])\n",
    "errors = [rsvd_error(extra) for extra=0:10] ./ opt_error"
   ]
  },
  {
   "cell_type": "code",
   "execution_count": null,
   "metadata": {},
   "outputs": [],
   "source": [
    "using Plots\n",
    "plot(errors)"
   ]
  }
 ],
 "metadata": {
  "@webio": {
   "lastCommId": null,
   "lastKernelId": null
  },
  "kernelspec": {
   "display_name": "Julia 1.5.1",
   "language": "julia",
   "name": "julia-1.5"
  },
  "language_info": {
   "file_extension": ".jl",
   "mimetype": "application/julia",
   "name": "julia",
   "version": "1.5.1"
  }
 },
 "nbformat": 4,
 "nbformat_minor": 4
}
